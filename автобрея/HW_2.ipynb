{
 "cells": [
  {
   "cell_type": "markdown",
   "metadata": {},
   "source": [
    "# Домашнее задание 2. Извлечение коллокаций.\n",
    "\n",
    "При выполнении домашнего задания можно пользоваться тетрадками с семинаров.\n",
    "\n",
    "### Описание задания:\n",
    "\n",
    "1. Скачайте [корпус](https://github.com/sjut/HSE-Compling/blob/master/hw/testset2.txt) текстов, обработайте его с помощью UDPipe, извлеките все группы \n",
    "\"глагол + прямое дополнение, выраженное существительным\" \n",
    "(не учитывайте глаголы, которые встречаются в корпусе менее **50** раз).\n",
    "\n",
    "2. Оцените полученные словосочетания следующими метриками: *log-likelihood*, *dice*, *PMI* (можно использовать `nltk.collocations`). \n",
    "\n",
    "3. Подготовьте \"золотой стандарт\" коллокаций (далее ЗС) для этого корпуса: \n",
    "возьмите словосочетания, которые попадают в топ-100 по всем метрикам,\n",
    "пересеките со [словарем глагольной сочетаемости](https://yadi.sk/d/5WWwOr9ccemcZA).\n",
    "\n",
    "4. Добавьте в ЗС словосочетания из топ-100 , которые не вошли в словарь, но являются коллокациями (если такие есть), объясните свой выбор.\n",
    "\n",
    "5. Оцените ранговую корреляцию (коэффициент Спирмена) результатов по каждой метрике с ЗС. \n",
    "Как это работает, читайте, например, [тут](https://en.wikipedia.org/wiki/Spearman%27s_rank_correlation_coefficient#Example).\n",
    "Можно использовать `scipy.stats.spearmanr`.\n",
    "Опишите ошибки каждой метрики.\n",
    "\n",
    "### Критерии оценки:\n",
    "\n",
    "По 2 балла на каждый пункт.\n",
    "\n",
    "### Формат сдачи задания:\n",
    "\n",
    "Jupyter-notebook на гитхабе.\n",
    "\n",
    "### Дедлайн: \n",
    "\n",
    "26 ноября 2019 10:00мск"
   ]
  },
  {
   "cell_type": "code",
   "execution_count": 8,
   "metadata": {},
   "outputs": [],
   "source": [
    "import nltk\n",
    "\n",
    "from collections import Counter\n",
    "from itertools import chain\n",
    "from nltk import collocations\n",
    "from nltk.parse import DependencyGraph\n",
    "from nltk.tokenize import RegexpTokenizer\n",
    "from pymorphy2 import MorphAnalyzer\n",
    "from scipy.stats import spearmanr\n",
    "from collections import Counter"
   ]
  },
  {
   "cell_type": "code",
   "execution_count": 9,
   "metadata": {},
   "outputs": [],
   "source": [
    "morph = MorphAnalyzer()\n",
    "tokenizer = RegexpTokenizer(r'\\w+')"
   ]
  },
  {
   "cell_type": "code",
   "execution_count": null,
   "metadata": {},
   "outputs": [],
   "source": []
  },
  {
   "cell_type": "code",
   "execution_count": 116,
   "metadata": {},
   "outputs": [],
   "source": [
    "def normalize_text(text):\n",
    "    text = tokenizer.tokenize(text.lower())\n",
    "    lemmas = [morph.parse(t)[0].normal_form for t in text]\n",
    "    return ' '.join(lemmas)"
   ]
  },
  {
   "cell_type": "markdown",
   "metadata": {},
   "source": [
    "## 1. Скачиваем модель"
   ]
  },
  {
   "cell_type": "code",
   "execution_count": 1,
   "metadata": {},
   "outputs": [
    {
     "name": "stdout",
     "output_type": "stream",
     "text": [
      "Loading UDPipe model: done.\n"
     ]
    }
   ],
   "source": [
    "!/Users/Asalamatina/Desktop/udpipe-1.2.0-bin/bin-osx/udpipe --input horizontal --output conllu \\\n",
    "--tokenize --tag --parse \\\n",
    "/Users/Asalamatina/Desktop/russian-syntagrus-ud-2.4-190531.udpipe \\\n",
    "< /Users/Asalamatina/Desktop/corpus.txt > /Users/Asalamatina/Desktop/corpus.conllu"
   ]
  },
  {
   "cell_type": "code",
   "execution_count": null,
   "metadata": {},
   "outputs": [],
   "source": []
  },
  {
   "cell_type": "markdown",
   "metadata": {},
   "source": [
    "## 2. Извлекаем глаголы"
   ]
  },
  {
   "cell_type": "code",
   "execution_count": 118,
   "metadata": {},
   "outputs": [],
   "source": [
    "trees = []\n",
    "\n",
    "with open('corpus.conllu', 'r', encoding='utf-8') as f:\n",
    "    parsed_sents = f.read().split('\\n\\n')\n",
    "\n",
    "    for sent in parsed_sents:\n",
    "        tree = [line for line in sent.split('\\n') if line and line[0] != '#']\n",
    "        trees.append('\\n'.join(tree))\n"
   ]
  },
  {
   "cell_type": "code",
   "execution_count": null,
   "metadata": {},
   "outputs": [],
   "source": []
  },
  {
   "cell_type": "markdown",
   "metadata": {},
   "source": [
    "## 3. Глагол + прямое дополнение, выраженное существительным"
   ]
  },
  {
   "cell_type": "code",
   "execution_count": 119,
   "metadata": {},
   "outputs": [
    {
     "name": "stdout",
     "output_type": "stream",
     "text": [
      "['обвинить', 'мочь', 'признать', 'подать', 'заявить', 'сообщить', 'стать', 'удовлетворить', 'требовать', 'вынести', 'считать', 'принять', 'просить', 'обратиться', 'говорить', 'быть', 'получить', 'приговорить', 'обвинять', 'отказаться', 'находиться', 'являться', 'направить', 'обжаловать', 'рассматривать', 'сказать', 'напомнить', 'предъявить', 'иметь', 'подтвердить', 'рассмотреть', 'пытаться', 'решить', 'отменить', 'арестовывать', 'делать', 'начаться', 'объявить', 'утверждать', 'дать', 'отклонить', 'передать', 'нет', 'оспорить', 'назначить', 'провести', 'согласиться', 'взыскать', 'оказаться', 'удаться', 'оставить', 'отказать', 'выплатить', 'обязать', 'пояснить', 'использовать', 'доказать', 'связать', 'счесть', 'запретить', 'рассказать', 'постановить', 'принадлежать', 'оспаривать', 'пройти']\n"
     ]
    }
   ],
   "source": [
    "verb_vocab = Counter()\n",
    "for t in trees:\n",
    "    try:\n",
    "        g = DependencyGraph(t, top_relation_label='root')\n",
    "        for n in g.nodes:\n",
    "            if g.nodes[n]['ctag'] == 'VERB':\n",
    "                verb_vocab[g.nodes[n]['lemma']] += 1\n",
    "    except:\n",
    "        pass\n",
    "mostfrequent = [item[0] for item in verb_vocab.most_common() if item[1] >= 50]\n",
    "print(mostfrequent)"
   ]
  },
  {
   "cell_type": "code",
   "execution_count": 120,
   "metadata": {},
   "outputs": [],
   "source": [
    "bigrams = []\n",
    "for t in trees:\n",
    "    try:\n",
    "        g = DependencyGraph(t, top_relation_label='root')\n",
    "        for item in g.triples():\n",
    "            if item[1] == 'obj' and item[2][1] == 'NOUN':\n",
    "                lemma = normalize_text(item[0][0])\n",
    "                if lemma in mostfrequent:\n",
    "                    coll = tuple([normalize_text(item[0][0]), \n",
    "                                  normalize_text(item[2][0])])\n",
    "                    bigrams.append(coll)\n",
    "    except:\n",
    "        pass"
   ]
  },
  {
   "cell_type": "code",
   "execution_count": 121,
   "metadata": {},
   "outputs": [
    {
     "name": "stderr",
     "output_type": "stream",
     "text": [
      "[nltk_data] Downloading package stopwords to\n",
      "[nltk_data]     /Users/Asalamatina/nltk_data...\n",
      "[nltk_data]   Package stopwords is already up-to-date!\n"
     ]
    }
   ],
   "source": [
    "from nltk.collocations import *\n",
    "nltk.download('stopwords')\n",
    "from nltk.corpus import stopwords\n",
    "stop = stopwords.words('russian')"
   ]
  },
  {
   "cell_type": "code",
   "execution_count": null,
   "metadata": {},
   "outputs": [],
   "source": []
  },
  {
   "cell_type": "markdown",
   "metadata": {},
   "source": [
    "## 4. Оценка метриками log-likelihood, dice, PMI "
   ]
  },
  {
   "cell_type": "code",
   "execution_count": 122,
   "metadata": {},
   "outputs": [],
   "source": [
    "bigram_measures = nltk.collocations.BigramAssocMeasures()\n",
    "finder = BigramCollocationFinder.from_documents(bigrams)\n",
    "finder.apply_word_filter(lambda w: len(w) < 3 or w.lower() in nltk.corpus.stopwords.words('russian'))"
   ]
  },
  {
   "cell_type": "code",
   "execution_count": 123,
   "metadata": {},
   "outputs": [],
   "source": [
    "loglike_scores = {i[0]:i[1] for i in finder.score_ngrams(bigram_measures.likelihood_ratio)}\n",
    "pmi_scores = {i[0]:i[1] for i in finder.score_ngrams(bigram_measures.pmi)}\n",
    "dice_scores = {i[0]:i[1] for i in finder.score_ngrams(bigram_measures.dice)}"
   ]
  },
  {
   "cell_type": "code",
   "execution_count": 124,
   "metadata": {},
   "outputs": [],
   "source": [
    "pmi_100 = finder.nbest(bigram_measures.pmi, 100)\n",
    "loglike_100 = finder.nbest(bigram_measures.likelihood_ratio, 100)\n",
    "dice_100 =  finder.nbest(bigram_measures.dice, 100)"
   ]
  },
  {
   "cell_type": "markdown",
   "metadata": {},
   "source": [
    "## 5. Золотой стандарт"
   ]
  },
  {
   "cell_type": "code",
   "execution_count": 125,
   "metadata": {},
   "outputs": [
    {
     "data": {
      "text/plain": [
       "{('арестовывать', 'акция'),\n",
       " ('вынести', 'вердикт'),\n",
       " ('вынести', 'приговор'),\n",
       " ('вынести', 'решение'),\n",
       " ('выплатить', 'дивиденд'),\n",
       " ('выплатить', 'иркутянин'),\n",
       " ('выплатить', 'компенсация'),\n",
       " ('выплатить', 'штраф'),\n",
       " ('дать', 'возможность'),\n",
       " ('дать', 'заключение'),\n",
       " ('дать', 'определение'),\n",
       " ('дать', 'показание'),\n",
       " ('дать', 'указание'),\n",
       " ('делать', 'вид'),\n",
       " ('доказать', 'бездействие'),\n",
       " ('доказать', 'вина'),\n",
       " ('доказать', 'невиновность'),\n",
       " ('доказать', 'незаконность'),\n",
       " ('доказать', 'неправомерность'),\n",
       " ('доказать', 'правность'),\n",
       " ('запретить', 'деятельность'),\n",
       " ('иметь', 'право'),\n",
       " ('использовать', 'женщинсмертница'),\n",
       " ('назначить', 'наказание'),\n",
       " ('направить', 'альтернативщик'),\n",
       " ('направить', 'запрос'),\n",
       " ('обвинить', 'президент'),\n",
       " ('обжаловать', 'приговор'),\n",
       " ('обжаловать', 'решение'),\n",
       " ('обжаловать', 'санкция'),\n",
       " ('объявить', 'перерыв'),\n",
       " ('обязать', 'ответчик'),\n",
       " ('оспаривать', 'законность'),\n",
       " ('оспаривать', 'отказ'),\n",
       " ('оспаривать', 'предписание'),\n",
       " ('оспаривать', 'решение'),\n",
       " ('оспорить', 'доначисление'),\n",
       " ('оспорить', 'правомерность'),\n",
       " ('оспорить', 'предписание'),\n",
       " ('оспорить', 'претензия'),\n",
       " ('оспорить', 'решение'),\n",
       " ('оспорить', 'указ'),\n",
       " ('оставить', 'приговор'),\n",
       " ('отклонить', 'иск'),\n",
       " ('отменить', 'запрет'),\n",
       " ('отменить', 'определение'),\n",
       " ('отменить', 'постановление'),\n",
       " ('отменить', 'регистрация'),\n",
       " ('отменить', 'решение'),\n",
       " ('отменить', 'указ'),\n",
       " ('подать', 'апелляция'),\n",
       " ('подать', 'жалоба'),\n",
       " ('подать', 'иск'),\n",
       " ('подать', 'ходатайство'),\n",
       " ('подтвердить', 'законность'),\n",
       " ('подтвердить', 'факт'),\n",
       " ('получить', 'компромат'),\n",
       " ('получить', 'контроль'),\n",
       " ('предъявить', 'обвинение'),\n",
       " ('предъявить', 'претензия'),\n",
       " ('предъявить', 'ультиматум'),\n",
       " ('приговорить', 'командир'),\n",
       " ('приговорить', 'основатель'),\n",
       " ('приговорить', 'политэмигрант'),\n",
       " ('приговорить', 'экс-глава'),\n",
       " ('приговорить', 'экс-министр'),\n",
       " ('признать', 'сделка'),\n",
       " ('принять', 'мера'),\n",
       " ('принять', 'резолюция'),\n",
       " ('принять', 'решение'),\n",
       " ('пройти', 'курс'),\n",
       " ('пройти', 'проверка'),\n",
       " ('рассматривать', 'вопрос'),\n",
       " ('рассматривать', 'дело'),\n",
       " ('рассматривать', 'иск'),\n",
       " ('рассматривать', 'представление'),\n",
       " ('рассмотреть', 'вопрос'),\n",
       " ('рассмотреть', 'жалоба'),\n",
       " ('рассмотреть', 'иск'),\n",
       " ('рассмотреть', 'представление'),\n",
       " ('решить', 'вопрос'),\n",
       " ('решить', 'проблема'),\n",
       " ('решить', 'судьба'),\n",
       " ('удовлетворить', 'апелляция'),\n",
       " ('удовлетворить', 'жалоба'),\n",
       " ('удовлетворить', 'запрос'),\n",
       " ('удовлетворить', 'иск'),\n",
       " ('удовлетворить', 'ходатайство')}"
      ]
     },
     "execution_count": 125,
     "metadata": {},
     "output_type": "execute_result"
    }
   ],
   "source": [
    "metrics = set(pmi_100best).intersection(set(dice_100best)).intersection(set(loglike_100best))\n",
    "metrics"
   ]
  },
  {
   "cell_type": "code",
   "execution_count": 126,
   "metadata": {},
   "outputs": [],
   "source": [
    "verb_coll = []\n",
    "with open(\"verb_coll.txt\", 'r', encoding=\"utf-8\") as f:\n",
    "    text = f.read()\n",
    "\n",
    "lines = text.split(\"\\n\")\n",
    "for line in lines:\n",
    "    entry = line.split(\"\\t\")\n",
    "    if len(entry) > 2:\n",
    "        coll = entry[2]\n",
    "        words = coll.split()\n",
    "        if len(words) == 2:\n",
    "            coll_lemm = (m.parse(words[0])[0].normal_form, m.parse(words[1])[0].normal_form)\n",
    "            verb_coll.append(coll_lemm)"
   ]
  },
  {
   "cell_type": "code",
   "execution_count": 127,
   "metadata": {},
   "outputs": [
    {
     "data": {
      "text/plain": [
       "{('вынести', 'приговор'),\n",
       " ('вынести', 'решение'),\n",
       " ('дать', 'возможность'),\n",
       " ('дать', 'заключение'),\n",
       " ('дать', 'определение'),\n",
       " ('дать', 'показание'),\n",
       " ('дать', 'указание'),\n",
       " ('делать', 'вид'),\n",
       " ('доказать', 'вина'),\n",
       " ('направить', 'запрос'),\n",
       " ('обжаловать', 'приговор'),\n",
       " ('обжаловать', 'решение'),\n",
       " ('объявить', 'перерыв'),\n",
       " ('оспаривать', 'решение'),\n",
       " ('отменить', 'постановление'),\n",
       " ('отменить', 'решение'),\n",
       " ('подать', 'жалоба'),\n",
       " ('подать', 'иск'),\n",
       " ('получить', 'контроль'),\n",
       " ('предъявить', 'обвинение'),\n",
       " ('предъявить', 'претензия'),\n",
       " ('принять', 'мера'),\n",
       " ('принять', 'резолюция'),\n",
       " ('принять', 'решение'),\n",
       " ('пройти', 'курс'),\n",
       " ('пройти', 'проверка'),\n",
       " ('рассматривать', 'вопрос'),\n",
       " ('рассматривать', 'дело'),\n",
       " ('рассмотреть', 'вопрос'),\n",
       " ('рассмотреть', 'жалоба'),\n",
       " ('решить', 'вопрос'),\n",
       " ('решить', 'проблема'),\n",
       " ('решить', 'судьба'),\n",
       " ('удовлетворить', 'запрос'),\n",
       " ('удовлетворить', 'иск')}"
      ]
     },
     "execution_count": 127,
     "metadata": {},
     "output_type": "execute_result"
    }
   ],
   "source": [
    "golden_standart = metrics.intersection(set(verb_coll))\n",
    "golden_standart"
   ]
  },
  {
   "cell_type": "code",
   "execution_count": 128,
   "metadata": {},
   "outputs": [
    {
     "data": {
      "text/plain": [
       "35"
      ]
     },
     "execution_count": 128,
     "metadata": {},
     "output_type": "execute_result"
    }
   ],
   "source": [
    "len(golden_standart)"
   ]
  },
  {
   "cell_type": "code",
   "execution_count": 129,
   "metadata": {},
   "outputs": [
    {
     "data": {
      "text/plain": [
       "{('арестовывать', 'акция'),\n",
       " ('вынести', 'вердикт'),\n",
       " ('выплатить', 'дивиденд'),\n",
       " ('выплатить', 'иркутянин'),\n",
       " ('выплатить', 'компенсация'),\n",
       " ('выплатить', 'штраф'),\n",
       " ('доказать', 'бездействие'),\n",
       " ('доказать', 'невиновность'),\n",
       " ('доказать', 'незаконность'),\n",
       " ('доказать', 'неправомерность'),\n",
       " ('доказать', 'правность'),\n",
       " ('запретить', 'деятельность'),\n",
       " ('иметь', 'право'),\n",
       " ('использовать', 'женщинсмертница'),\n",
       " ('назначить', 'наказание'),\n",
       " ('направить', 'альтернативщик'),\n",
       " ('обвинить', 'президент'),\n",
       " ('обжаловать', 'санкция'),\n",
       " ('обязать', 'ответчик'),\n",
       " ('оспаривать', 'законность'),\n",
       " ('оспаривать', 'отказ'),\n",
       " ('оспаривать', 'предписание'),\n",
       " ('оспорить', 'доначисление'),\n",
       " ('оспорить', 'правомерность'),\n",
       " ('оспорить', 'предписание'),\n",
       " ('оспорить', 'претензия'),\n",
       " ('оспорить', 'решение'),\n",
       " ('оспорить', 'указ'),\n",
       " ('оставить', 'приговор'),\n",
       " ('отклонить', 'иск'),\n",
       " ('отменить', 'запрет'),\n",
       " ('отменить', 'определение'),\n",
       " ('отменить', 'регистрация'),\n",
       " ('отменить', 'указ'),\n",
       " ('подать', 'апелляция'),\n",
       " ('подать', 'ходатайство'),\n",
       " ('подтвердить', 'законность'),\n",
       " ('подтвердить', 'факт'),\n",
       " ('получить', 'компромат'),\n",
       " ('предъявить', 'ультиматум'),\n",
       " ('приговорить', 'командир'),\n",
       " ('приговорить', 'основатель'),\n",
       " ('приговорить', 'политэмигрант'),\n",
       " ('приговорить', 'экс-глава'),\n",
       " ('приговорить', 'экс-министр'),\n",
       " ('признать', 'сделка'),\n",
       " ('рассматривать', 'иск'),\n",
       " ('рассматривать', 'представление'),\n",
       " ('рассмотреть', 'иск'),\n",
       " ('рассмотреть', 'представление'),\n",
       " ('удовлетворить', 'апелляция'),\n",
       " ('удовлетворить', 'жалоба'),\n",
       " ('удовлетворить', 'ходатайство')}"
      ]
     },
     "execution_count": 129,
     "metadata": {},
     "output_type": "execute_result"
    }
   ],
   "source": [
    "metrics - golden_standart"
   ]
  },
  {
   "cell_type": "markdown",
   "metadata": {},
   "source": [
    "## 6. Не попали в ЗС"
   ]
  },
  {
   "cell_type": "markdown",
   "metadata": {},
   "source": [
    "Мне кажется, что в ЗС нужно добавить следующие коллокации:\n",
    " 1. иметь право\n",
    " 2. предъявить ультиматум \n",
    " 3. выплатить компенсациию\n",
    " \n",
    "    "
   ]
  },
  {
   "cell_type": "code",
   "execution_count": null,
   "metadata": {},
   "outputs": [],
   "source": []
  },
  {
   "cell_type": "code",
   "execution_count": 130,
   "metadata": {},
   "outputs": [],
   "source": [
    "add_back = {('иметь', 'право'),\n",
    "            ('предъявить', 'ультиматум'),\n",
    "            ('выплатить', 'компенсация')}"
   ]
  },
  {
   "cell_type": "code",
   "execution_count": 131,
   "metadata": {},
   "outputs": [
    {
     "data": {
      "text/plain": [
       "38"
      ]
     },
     "execution_count": 131,
     "metadata": {},
     "output_type": "execute_result"
    }
   ],
   "source": [
    "golden_standart = golden_standart.union(add_back)\n",
    "len(golden_standart)"
   ]
  },
  {
   "cell_type": "markdown",
   "metadata": {},
   "source": [
    "## 7. Ранговая корреляция"
   ]
  },
  {
   "cell_type": "code",
   "execution_count": 132,
   "metadata": {},
   "outputs": [
    {
     "data": {
      "text/plain": [
       "0.6666666666666667"
      ]
     },
     "execution_count": 132,
     "metadata": {},
     "output_type": "execute_result"
    }
   ],
   "source": [
    "rho, pval = spearmanr([1, 2, 3], [10, 8, 11])\n",
    "pval"
   ]
  }
 ],
 "metadata": {
  "kernelspec": {
   "display_name": "Python 3",
   "language": "python",
   "name": "python3"
  },
  "language_info": {
   "codemirror_mode": {
    "name": "ipython",
    "version": 3
   },
   "file_extension": ".py",
   "mimetype": "text/x-python",
   "name": "python",
   "nbconvert_exporter": "python",
   "pygments_lexer": "ipython3",
   "version": "3.7.3"
  }
 },
 "nbformat": 4,
 "nbformat_minor": 2
}
