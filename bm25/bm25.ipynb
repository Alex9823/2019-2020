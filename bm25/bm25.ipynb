{
 "cells": [
  {
   "cell_type": "code",
   "execution_count": 56,
   "metadata": {},
   "outputs": [],
   "source": [
    "import json\n",
    "import numpy as np\n",
    "import nltk\n",
    "import os\n",
    "import pandas as pd\n",
    "import re"
   ]
  },
  {
   "cell_type": "code",
   "execution_count": null,
   "metadata": {},
   "outputs": [],
   "source": []
  },
  {
   "cell_type": "code",
   "execution_count": 34,
   "metadata": {},
   "outputs": [
    {
     "name": "stderr",
     "output_type": "stream",
     "text": [
      "[nltk_data] Downloading package punkt to\n",
      "[nltk_data]     /Users/Asalamatina/nltk_data...\n",
      "[nltk_data]   Unzipping tokenizers/punkt.zip.\n"
     ]
    },
    {
     "data": {
      "text/plain": [
       "True"
      ]
     },
     "execution_count": 34,
     "metadata": {},
     "output_type": "execute_result"
    }
   ],
   "source": [
    "nltk.download('punkt')"
   ]
  },
  {
   "cell_type": "code",
   "execution_count": 51,
   "metadata": {},
   "outputs": [],
   "source": [
    "from math import log\n",
    "from pymystem3 import Mystem\n",
    "from sklearn.feature_extraction.text import CountVectorizer\n",
    "from time import time"
   ]
  },
  {
   "cell_type": "code",
   "execution_count": null,
   "metadata": {},
   "outputs": [],
   "source": []
  },
  {
   "cell_type": "code",
   "execution_count": 2,
   "metadata": {},
   "outputs": [
    {
     "name": "stdout",
     "output_type": "stream",
     "text": [
      "Collecting pymystem3\n",
      "  Downloading https://files.pythonhosted.org/packages/00/8c/98b43c5822620458704e187a1666616c1e21a846ede8ffda493aabe11207/pymystem3-0.2.0-py3-none-any.whl\n",
      "Requirement already satisfied: requests in /anaconda3/lib/python3.7/site-packages (from pymystem3) (2.22.0)\n",
      "Requirement already satisfied: certifi>=2017.4.17 in /anaconda3/lib/python3.7/site-packages (from requests->pymystem3) (2019.6.16)\n",
      "Requirement already satisfied: idna<2.9,>=2.5 in /anaconda3/lib/python3.7/site-packages (from requests->pymystem3) (2.8)\n",
      "Requirement already satisfied: chardet<3.1.0,>=3.0.2 in /anaconda3/lib/python3.7/site-packages (from requests->pymystem3) (3.0.4)\n",
      "Requirement already satisfied: urllib3!=1.25.0,!=1.25.1,<1.26,>=1.21.1 in /anaconda3/lib/python3.7/site-packages (from requests->pymystem3) (1.24.2)\n",
      "Installing collected packages: pymystem3\n",
      "Successfully installed pymystem3-0.2.0\n"
     ]
    }
   ],
   "source": [
    "!pip install pymystem3"
   ]
  },
  {
   "cell_type": "code",
   "execution_count": 57,
   "metadata": {},
   "outputs": [],
   "source": [
    "from nltk.corpus import state_union\n",
    "from nltk.tokenize import PunktSentenceTokenizer"
   ]
  },
  {
   "cell_type": "code",
   "execution_count": 58,
   "metadata": {},
   "outputs": [],
   "source": [
    "k = 2.0\n",
    "trained_size = 2000\n",
    "N = trained_size"
   ]
  },
  {
   "cell_type": "code",
   "execution_count": null,
   "metadata": {},
   "outputs": [],
   "source": []
  },
  {
   "cell_type": "markdown",
   "metadata": {},
   "source": [
    "### Обработка датасета"
   ]
  },
  {
   "cell_type": "code",
   "execution_count": 59,
   "metadata": {},
   "outputs": [],
   "source": [
    "def sort_list(arr):\n",
    "    return [x[0] for x in sorted(enumerate(arr), key=lambda x:x[1], reverse=True)]"
   ]
  },
  {
   "cell_type": "code",
   "execution_count": 60,
   "metadata": {},
   "outputs": [],
   "source": [
    "def lemmatize(text):\n",
    "    return [morph.lemmatize(token)[0] for token in nltk.word_tokenize(text)]"
   ]
  },
  {
   "cell_type": "code",
   "execution_count": 61,
   "metadata": {},
   "outputs": [],
   "source": [
    "questions = pd.read_csv('quora_question_pairs_rus.csv')"
   ]
  },
  {
   "cell_type": "code",
   "execution_count": 62,
   "metadata": {},
   "outputs": [
    {
     "data": {
      "text/html": [
       "<div>\n",
       "<style scoped>\n",
       "    .dataframe tbody tr th:only-of-type {\n",
       "        vertical-align: middle;\n",
       "    }\n",
       "\n",
       "    .dataframe tbody tr th {\n",
       "        vertical-align: top;\n",
       "    }\n",
       "\n",
       "    .dataframe thead th {\n",
       "        text-align: right;\n",
       "    }\n",
       "</style>\n",
       "<table border=\"1\" class=\"dataframe\">\n",
       "  <thead>\n",
       "    <tr style=\"text-align: right;\">\n",
       "      <th></th>\n",
       "      <th>Unnamed: 0</th>\n",
       "      <th>question1</th>\n",
       "      <th>question2</th>\n",
       "      <th>is_duplicate</th>\n",
       "    </tr>\n",
       "  </thead>\n",
       "  <tbody>\n",
       "    <tr>\n",
       "      <th>0</th>\n",
       "      <td>0</td>\n",
       "      <td>Какова история кохинор кох-и-ноор-бриллиант</td>\n",
       "      <td>что произойдет, если правительство Индии украд...</td>\n",
       "      <td>0</td>\n",
       "    </tr>\n",
       "    <tr>\n",
       "      <th>1</th>\n",
       "      <td>1</td>\n",
       "      <td>как я могу увеличить скорость моего интернет-с...</td>\n",
       "      <td>как повысить скорость интернета путем взлома ч...</td>\n",
       "      <td>0</td>\n",
       "    </tr>\n",
       "    <tr>\n",
       "      <th>2</th>\n",
       "      <td>2</td>\n",
       "      <td>почему я мысленно очень одинок, как я могу это...</td>\n",
       "      <td>найти остаток, когда математика 23 ^ 24 матема...</td>\n",
       "      <td>0</td>\n",
       "    </tr>\n",
       "    <tr>\n",
       "      <th>3</th>\n",
       "      <td>3</td>\n",
       "      <td>которые растворяют в воде быстро сахарную соль...</td>\n",
       "      <td>какая рыба выживет в соленой воде</td>\n",
       "      <td>0</td>\n",
       "    </tr>\n",
       "    <tr>\n",
       "      <th>4</th>\n",
       "      <td>4</td>\n",
       "      <td>астрология: я - луна-колпачок из козерога и кр...</td>\n",
       "      <td>Я тройная луна-козерог и восхождение в козерог...</td>\n",
       "      <td>1</td>\n",
       "    </tr>\n",
       "  </tbody>\n",
       "</table>\n",
       "</div>"
      ],
      "text/plain": [
       "   Unnamed: 0                                          question1  \\\n",
       "0           0        Какова история кохинор кох-и-ноор-бриллиант   \n",
       "1           1  как я могу увеличить скорость моего интернет-с...   \n",
       "2           2  почему я мысленно очень одинок, как я могу это...   \n",
       "3           3  которые растворяют в воде быстро сахарную соль...   \n",
       "4           4  астрология: я - луна-колпачок из козерога и кр...   \n",
       "\n",
       "                                           question2  is_duplicate  \n",
       "0  что произойдет, если правительство Индии украд...             0  \n",
       "1  как повысить скорость интернета путем взлома ч...             0  \n",
       "2  найти остаток, когда математика 23 ^ 24 матема...             0  \n",
       "3                  какая рыба выживет в соленой воде             0  \n",
       "4  Я тройная луна-козерог и восхождение в козерог...             1  "
      ]
     },
     "execution_count": 62,
     "metadata": {},
     "output_type": "execute_result"
    }
   ],
   "source": [
    "questions.head()"
   ]
  },
  {
   "cell_type": "code",
   "execution_count": null,
   "metadata": {},
   "outputs": [],
   "source": []
  },
  {
   "cell_type": "code",
   "execution_count": 63,
   "metadata": {},
   "outputs": [],
   "source": [
    "train_texts = questions[:trained_size]['question2'].tolist()"
   ]
  },
  {
   "cell_type": "code",
   "execution_count": 64,
   "metadata": {},
   "outputs": [],
   "source": [
    "with open('lemmatized.json', 'w') as f:\n",
    "    f.write(json.dumps(train_texts))"
   ]
  },
  {
   "cell_type": "code",
   "execution_count": 65,
   "metadata": {},
   "outputs": [],
   "source": [
    "with open('lemmatized.json', 'r') as f:\n",
    "    train_texts = json.loads(f.read())[:trained_size]"
   ]
  },
  {
   "cell_type": "code",
   "execution_count": null,
   "metadata": {},
   "outputs": [],
   "source": []
  },
  {
   "cell_type": "markdown",
   "metadata": {},
   "source": [
    "### Text length"
   ]
  },
  {
   "cell_type": "code",
   "execution_count": 66,
   "metadata": {},
   "outputs": [
    {
     "data": {
      "text/plain": [
       "9.5675"
      ]
     },
     "execution_count": 66,
     "metadata": {},
     "output_type": "execute_result"
    }
   ],
   "source": [
    "text_length = [len(text.split()) for text in train_texts]\n",
    "avgdl = sum(text_length)/N\n",
    "avgdl"
   ]
  },
  {
   "cell_type": "code",
   "execution_count": null,
   "metadata": {},
   "outputs": [],
   "source": []
  },
  {
   "cell_type": "code",
   "execution_count": 67,
   "metadata": {},
   "outputs": [
    {
     "data": {
      "text/plain": [
       "(2000, 6632)"
      ]
     },
     "execution_count": 67,
     "metadata": {},
     "output_type": "execute_result"
    }
   ],
   "source": [
    "X = vectorizer.fit_transform(train_texts)\n",
    "count_matrix = X.toarray()\n",
    "count_matrix.shape"
   ]
  },
  {
   "cell_type": "markdown",
   "metadata": {},
   "source": [
    "### Tf Idf matrix"
   ]
  },
  {
   "cell_type": "code",
   "execution_count": 68,
   "metadata": {},
   "outputs": [
    {
     "data": {
      "text/plain": [
       "array([[0., 0., 0., ..., 0., 0., 0.],\n",
       "       [0., 0., 0., ..., 0., 0., 0.],\n",
       "       [0., 0., 0., ..., 0., 0., 0.],\n",
       "       ...,\n",
       "       [0., 0., 0., ..., 0., 0., 0.],\n",
       "       [0., 0., 0., ..., 0., 0., 0.],\n",
       "       [0., 0., 0., ..., 0., 0., 0.]])"
      ]
     },
     "execution_count": 68,
     "metadata": {},
     "output_type": "execute_result"
    }
   ],
   "source": [
    "tf_matrix = count_matrix / np.array(text_length).reshape((-1, 1))\n",
    "tf_matrix"
   ]
  },
  {
   "cell_type": "code",
   "execution_count": null,
   "metadata": {},
   "outputs": [],
   "source": []
  },
  {
   "cell_type": "code",
   "execution_count": null,
   "metadata": {},
   "outputs": [],
   "source": []
  },
  {
   "cell_type": "code",
   "execution_count": 69,
   "metadata": {},
   "outputs": [
    {
     "data": {
      "text/plain": [
       "['болтунщиком',\n",
       " 'боль',\n",
       " 'больно',\n",
       " 'большая',\n",
       " 'больше',\n",
       " 'большей',\n",
       " 'большие',\n",
       " 'большим',\n",
       " 'большинстве',\n",
       " 'большинство']"
      ]
     },
     "execution_count": 69,
     "metadata": {},
     "output_type": "execute_result"
    }
   ],
   "source": [
    "vocabulary = vectorizer.get_feature_names()\n",
    "vocabulary[900:910]"
   ]
  },
  {
   "cell_type": "code",
   "execution_count": null,
   "metadata": {},
   "outputs": [],
   "source": []
  },
  {
   "cell_type": "code",
   "execution_count": 70,
   "metadata": {},
   "outputs": [],
   "source": [
    "def preprocess(text, lemm=False):\n",
    "    if lemm:\n",
    "        words = lemmatize(text)\n",
    "    else:\n",
    "        words = nltk.word_tokenize(text)\n",
    "    query_modified = list(set(words).intersection(set(vocabulary)))  \n",
    "    return query_modified"
   ]
  },
  {
   "cell_type": "code",
   "execution_count": null,
   "metadata": {},
   "outputs": [],
   "source": []
  },
  {
   "cell_type": "code",
   "execution_count": 71,
   "metadata": {},
   "outputs": [
    {
     "data": {
      "text/plain": [
       "array([ 7, 14,  7, ...,  1,  1,  1])"
      ]
     },
     "execution_count": 71,
     "metadata": {},
     "output_type": "execute_result"
    }
   ],
   "source": [
    "in_n_docs = np.count_nonzero(count_matrix, axis=0)\n",
    "in_n_docs"
   ]
  },
  {
   "cell_type": "code",
   "execution_count": 72,
   "metadata": {},
   "outputs": [],
   "source": [
    "def IDF_modified(word):\n",
    "    word_id = vocabulary.index(word)\n",
    "    n = in_n_docs[word_id]\n",
    "    return log((N - n + 0.5) / (n + 0.5))"
   ]
  },
  {
   "cell_type": "code",
   "execution_count": 73,
   "metadata": {},
   "outputs": [
    {
     "data": {
      "text/plain": [
       "7.195187320178709"
      ]
     },
     "execution_count": 73,
     "metadata": {},
     "output_type": "execute_result"
    }
   ],
   "source": [
    "IDF_modified('воде')"
   ]
  },
  {
   "cell_type": "code",
   "execution_count": 74,
   "metadata": {},
   "outputs": [
    {
     "data": {
      "text/plain": [
       "[6.6838614462772235,\n",
       " 7.195187320178709,\n",
       " 5.893901832250363,\n",
       " 7.195187320178709,\n",
       " 7.195187320178709,\n",
       " 7.195187320178709,\n",
       " 7.195187320178709,\n",
       " 7.195187320178709,\n",
       " 7.195187320178709,\n",
       " 7.195187320178709]"
      ]
     },
     "execution_count": 74,
     "metadata": {},
     "output_type": "execute_result"
    }
   ],
   "source": [
    "idfs = [IDF_modified(word) for word in vocabulary]\n",
    "idfs[1000:1010]"
   ]
  },
  {
   "cell_type": "code",
   "execution_count": null,
   "metadata": {},
   "outputs": [],
   "source": []
  },
  {
   "cell_type": "code",
   "execution_count": null,
   "metadata": {},
   "outputs": [],
   "source": []
  },
  {
   "cell_type": "code",
   "execution_count": 77,
   "metadata": {},
   "outputs": [],
   "source": [
    "def modify_tf(tf_value, doc_index, b=0.75):\n",
    "    l = text_length[doc_index]\n",
    "    return (tf_value * (k + 1.0))/(tf_value + k * (1.0 - b + b * (l/avgdl)))\n",
    "\n",
    "def modify_tf_matrix(tf_matrix, b=0.75): \n",
    "    enumed =  np.ndenumerate(tf_matrix)\n",
    "    for i, tf_value in enumed:\n",
    "        doc_index = i[0]\n",
    "        tf_matrix[i] = modify_tf(tf_value, doc_index, b)\n",
    "    return tf_matrix"
   ]
  },
  {
   "cell_type": "code",
   "execution_count": 78,
   "metadata": {},
   "outputs": [
    {
     "data": {
      "text/plain": [
       "array([[0., 0., 0., ..., 0., 0., 0.],\n",
       "       [0., 0., 0., ..., 0., 0., 0.],\n",
       "       [0., 0., 0., ..., 0., 0., 0.],\n",
       "       ...,\n",
       "       [0., 0., 0., ..., 0., 0., 0.],\n",
       "       [0., 0., 0., ..., 0., 0., 0.],\n",
       "       [0., 0., 0., ..., 0., 0., 0.]])"
      ]
     },
     "execution_count": 78,
     "metadata": {},
     "output_type": "execute_result"
    }
   ],
   "source": [
    "\n",
    "modified_tf_matrix = modify_tf_matrix(tf_matrix)\n",
    "modified_tf_matrix"
   ]
  },
  {
   "cell_type": "markdown",
   "metadata": {},
   "source": [
    "### Функция ранжирования bm25"
   ]
  },
  {
   "cell_type": "markdown",
   "metadata": {},
   "source": [
    "## Задача 1"
   ]
  },
  {
   "cell_type": "code",
   "execution_count": 90,
   "metadata": {},
   "outputs": [],
   "source": [
    "query = ' критический порог уже пройден'"
   ]
  },
  {
   "cell_type": "code",
   "execution_count": 91,
   "metadata": {},
   "outputs": [],
   "source": [
    "def bm25_vector(query, lemm=False):\n",
    "    vector = np.array(vectorizer.transform([' '.join(preprocess(query, lemm))]).todense())[0]\n",
    "    binary_vector = np.vectorize(lambda x: 1.0 if x != 0.0 else 0.0)(vector) \n",
    "    idfs_from_query = np.array(idfs)*np.array(binary_vector)\n",
    "    return modified_tf_matrix.dot(idfs_from_query) "
   ]
  },
  {
   "cell_type": "code",
   "execution_count": null,
   "metadata": {},
   "outputs": [],
   "source": []
  },
  {
   "cell_type": "code",
   "execution_count": 92,
   "metadata": {},
   "outputs": [],
   "source": [
    "\n",
    "def bm25_iter(query, lemm=False):\n",
    "    query_words = preprocess(query, lemm)\n",
    "    relevance = []\n",
    "    for i in range(N):\n",
    "        doc_index = i\n",
    "        doc_bm25 = 0.0\n",
    "        for word in set(query_words): \n",
    "            word_index = vocabulary.index(word)\n",
    "            tf_value = tf_matrix[(doc_index, word_index)]\n",
    "            doc_bm25 += idfs[word_index] * modify_tf(tf_value, doc_index)\n",
    "        relevance.append(doc_bm25)\n",
    "    return relevance"
   ]
  },
  {
   "cell_type": "code",
   "execution_count": null,
   "metadata": {},
   "outputs": [],
   "source": []
  },
  {
   "cell_type": "code",
   "execution_count": 95,
   "metadata": {},
   "outputs": [
    {
     "name": "stdout",
     "output_type": "stream",
     "text": [
      "time for non-lemmatized query: 3.600120544433594e-05\n",
      "time for lemmatized query: 3.218650817871094e-05\n"
     ]
    }
   ],
   "source": [
    "start = time()\n",
    "print('time for non-lemmatized query: ' + str(time() - start))\n",
    "start = time()\n",
    "print('time for lemmatized query: ' + str(time() - start))"
   ]
  },
  {
   "cell_type": "code",
   "execution_count": null,
   "metadata": {},
   "outputs": [],
   "source": []
  },
  {
   "cell_type": "code",
   "execution_count": 96,
   "metadata": {},
   "outputs": [
    {
     "name": "stdout",
     "output_type": "stream",
     "text": [
      "TIME non-lemmatized query: 4.506111145019531e-05\n",
      "TIME lemmatized query: 3.910064697265625e-05\n"
     ]
    }
   ],
   "source": [
    "start = time()\n",
    "print('TIME non-lemmatized query:', str(time() - start))\n",
    "start = time()\n",
    "print('TIME lemmatized query:', str(time() - start))"
   ]
  },
  {
   "cell_type": "code",
   "execution_count": null,
   "metadata": {},
   "outputs": [],
   "source": []
  },
  {
   "cell_type": "code",
   "execution_count": null,
   "metadata": {},
   "outputs": [],
   "source": []
  },
  {
   "cell_type": "markdown",
   "metadata": {},
   "source": [
    "### Задача 2"
   ]
  },
  {
   "cell_type": "code",
   "execution_count": 83,
   "metadata": {},
   "outputs": [],
   "source": [
    "def search(query, lemm=False, n=N, nonzero=False, vector=True): \n",
    "    '''\n",
    "    searches a given query, returns top n results, by default n = all found (the legth of collection)\n",
    "    vector flag defines the algorythm (vector is used by default) \n",
    "    return format: [(document rank, document id, document text, bm_25), ...]\n",
    "    '''\n",
    "    \n",
    "    if vector:\n",
    "        bms = bm25_vector(query, lemm)\n",
    "    else:\n",
    "        bms = bm25_iter(query, lemm)\n",
    "    relevance_sorted_document_ids_top_n = sort_list(bms)[:n]\n",
    "    return [(rank, index, np.array(train_texts)[index], bms[index]) for rank, index in enumerate(relevance_sorted_document_ids_top_n)]"
   ]
  },
  {
   "cell_type": "code",
   "execution_count": null,
   "metadata": {},
   "outputs": [],
   "source": []
  },
  {
   "cell_type": "code",
   "execution_count": 89,
   "metadata": {},
   "outputs": [
    {
     "name": "stdout",
     "output_type": "stream",
     "text": [
      "query: ребенок плачет в самолете уже два часа \n",
      "\n",
      "relevance rank: 1\n",
      "document: у знаменитостей Болливуда есть свой собственный реактивный самолет\n",
      "bm 25 = 1.4357859672020814 \n",
      "\n",
      "relevance rank: 2\n",
      "document: вы когда-нибудь сожалеете о том, что ваш ребенок\n",
      "bm 25 = 1.3337518599932008 \n",
      "\n",
      "relevance rank: 3\n",
      "document: была инициатива по контролю за оружием, чтобы забрать оружие, которое уже есть у людей\n",
      "bm 25 = 0.5177404144269768 \n",
      "\n",
      "relevance rank: 4\n",
      "document: что является лучшим оправданием для объяснения пробела в один или два года в вашей карьере работы для собеседования\n",
      "bm 25 = 0.3298122373520815 \n",
      "\n",
      "relevance rank: 5\n",
      "document: сколько способов 12 яблок могут быть распределены среди 4 детей, так что каждый ребенок получает по меньшей мере 2 яблока\n",
      "bm 25 = 0.2720249178995481 \n",
      "\n",
      "relevance rank: 6\n",
      "document: болливудская индустрия не поощряет аутсайдеров для экс-аутсайдеров, может получить одну или максимум два шанса, в то время как у звездных детей есть много шансов на выполнение\n",
      "bm 25 = 0.1671190981813345 \n",
      "\n",
      "relevance rank: 7\n",
      "document: предположим, что вы катаетесь на каноэ с постоянной скоростью 4 мили в час, вы идете на 6 миль вниз по течению вверх по потоку, что такое скорость текущего\n",
      "bm 25 = 0.1565122452856107 \n",
      "\n",
      "relevance rank: 8\n",
      "document: если у меня уже есть действительная гостевая виза категории v - 1, многократная запись в Канаду, мне все еще нужно другое trv вместе с разрешением на учебу\n",
      "bm 25 = 0.15568824632745504 \n",
      "\n",
      "relevance rank: 9\n",
      "document: что произойдет, если правительство Индии украдет кохинор кох-и-ноор-алмаз назад\n",
      "bm 25 = 0.0 \n",
      "\n",
      "relevance rank: 10\n",
      "document: как повысить скорость интернета путем взлома через dns\n",
      "bm 25 = 0.0 \n",
      "\n"
     ]
    }
   ],
   "source": [
    "query = 'ребенок плачет в самолете уже два часа'\n",
    "print('query:', query, '\\n')\n",
    "start = time()\n",
    "response = search(query, n=10, lemm=True)\n",
    "for rank, document_index, text, bm_25 in response:\n",
    "    print('relevance rank:', rank+1)\n",
    "    print('document:', text)\n",
    "    print('bm 25 =', bm_25, '\\n')\n"
   ]
  },
  {
   "cell_type": "code",
   "execution_count": null,
   "metadata": {},
   "outputs": [],
   "source": []
  },
  {
   "cell_type": "code",
   "execution_count": 40,
   "metadata": {},
   "outputs": [
    {
     "data": {
      "text/html": [
       "<div>\n",
       "<style scoped>\n",
       "    .dataframe tbody tr th:only-of-type {\n",
       "        vertical-align: middle;\n",
       "    }\n",
       "\n",
       "    .dataframe tbody tr th {\n",
       "        vertical-align: top;\n",
       "    }\n",
       "\n",
       "    .dataframe thead th {\n",
       "        text-align: right;\n",
       "    }\n",
       "</style>\n",
       "<table border=\"1\" class=\"dataframe\">\n",
       "  <thead>\n",
       "    <tr style=\"text-align: right;\">\n",
       "      <th></th>\n",
       "      <th>Unnamed: 0</th>\n",
       "      <th>question1</th>\n",
       "      <th>question2</th>\n",
       "      <th>is_duplicate</th>\n",
       "    </tr>\n",
       "  </thead>\n",
       "  <tbody>\n",
       "    <tr>\n",
       "      <th>4</th>\n",
       "      <td>4</td>\n",
       "      <td>астрология: я - луна-колпачок из козерога и кр...</td>\n",
       "      <td>Я тройная луна-козерог и восхождение в козерог...</td>\n",
       "      <td>1</td>\n",
       "    </tr>\n",
       "    <tr>\n",
       "      <th>6</th>\n",
       "      <td>6</td>\n",
       "      <td>как я могу быть хорошим геологом?</td>\n",
       "      <td>что я должен делать, чтобы быть великим геологом?</td>\n",
       "      <td>1</td>\n",
       "    </tr>\n",
       "    <tr>\n",
       "      <th>10</th>\n",
       "      <td>10</td>\n",
       "      <td>как мне читать и находить комментарии к YouTube</td>\n",
       "      <td>как я могу увидеть все мои комментарии к YouTube</td>\n",
       "      <td>1</td>\n",
       "    </tr>\n",
       "    <tr>\n",
       "      <th>11</th>\n",
       "      <td>11</td>\n",
       "      <td>что может сделать физику легкой для изучения</td>\n",
       "      <td>как вы можете легко научиться физике</td>\n",
       "      <td>1</td>\n",
       "    </tr>\n",
       "    <tr>\n",
       "      <th>12</th>\n",
       "      <td>12</td>\n",
       "      <td>какой был ваш первый сексуальный опыт, как</td>\n",
       "      <td>какой был ваш первый сексуальный опыт</td>\n",
       "      <td>1</td>\n",
       "    </tr>\n",
       "  </tbody>\n",
       "</table>\n",
       "</div>"
      ],
      "text/plain": [
       "    Unnamed: 0                                          question1  \\\n",
       "4            4  астрология: я - луна-колпачок из козерога и кр...   \n",
       "6            6                  как я могу быть хорошим геологом?   \n",
       "10          10    как мне читать и находить комментарии к YouTube   \n",
       "11          11       что может сделать физику легкой для изучения   \n",
       "12          12         какой был ваш первый сексуальный опыт, как   \n",
       "\n",
       "                                            question2  is_duplicate  \n",
       "4   Я тройная луна-козерог и восхождение в козерог...             1  \n",
       "6   что я должен делать, чтобы быть великим геологом?             1  \n",
       "10   как я могу увидеть все мои комментарии к YouTube             1  \n",
       "11               как вы можете легко научиться физике             1  \n",
       "12              какой был ваш первый сексуальный опыт             1  "
      ]
     },
     "execution_count": 40,
     "metadata": {},
     "output_type": "execute_result"
    }
   ],
   "source": [
    "testable = questions[(questions['is_duplicate'] == 1)&(questions.index < trained_size)][:100]\n",
    "testable.head()"
   ]
  },
  {
   "cell_type": "code",
   "execution_count": 41,
   "metadata": {},
   "outputs": [
    {
     "data": {
      "text/plain": [
       "Int64Index([  4,   6,  10,  11,  12,  14,  15,  17,  19,  28,  30,  31,  37,\n",
       "             47,  48,  49,  50,  52,  57,  61,  64,  65,  66,  70,  71,  72,\n",
       "             73,  78,  83,  84,  85,  87,  91,  92,  94,  99, 103, 106, 112,\n",
       "            119, 121, 124, 126, 134, 135, 142, 143, 151, 155, 157, 158, 159,\n",
       "            162, 164, 167, 172, 174, 175, 177, 178, 179, 181, 184, 187, 188,\n",
       "            189, 190, 192, 193, 196, 197, 198, 199, 202, 208, 209, 214, 215,\n",
       "            218, 219, 220, 223, 225, 228, 234, 235, 237, 241, 242, 243, 245,\n",
       "            248, 249, 250, 252, 254, 259, 260, 261, 266],\n",
       "           dtype='int64')"
      ]
     },
     "execution_count": 41,
     "metadata": {},
     "output_type": "execute_result"
    }
   ],
   "source": [
    "testable.index"
   ]
  },
  {
   "cell_type": "code",
   "execution_count": 42,
   "metadata": {},
   "outputs": [
    {
     "data": {
      "text/plain": [
       "[(0, 1432, 'мне все равно, что люди думают обо мне', 2.8942597405799324),\n",
       " (1, 1761, 'что такое свет из', 2.5114209976934676),\n",
       " (2, 494, 'что это за картина?', 2.4201115560053226),\n",
       " (3, 59, 'это надежные торренты', 2.304579802827789),\n",
       " (4, 1669, 'как это влюбиться', 2.304579802827789)]"
      ]
     },
     "execution_count": 42,
     "metadata": {},
     "output_type": "execute_result"
    }
   ],
   "source": [
    "search(questions.iloc[4]['question1'], n=5)"
   ]
  },
  {
   "cell_type": "code",
   "execution_count": 43,
   "metadata": {},
   "outputs": [],
   "source": [
    "def test_q1_by_id(q1_index):\n",
    "    top_5_ids = [i for rank, i, text, bm_25 in search(questions.iloc[q1_index]['question1'], n=5)]\n",
    "    return 1.0 if q1_index in top_5_ids else 0.0"
   ]
  },
  {
   "cell_type": "code",
   "execution_count": null,
   "metadata": {},
   "outputs": [],
   "source": []
  },
  {
   "cell_type": "code",
   "execution_count": 44,
   "metadata": {},
   "outputs": [
    {
     "data": {
      "text/plain": [
       "1.0"
      ]
     },
     "execution_count": 44,
     "metadata": {},
     "output_type": "execute_result"
    }
   ],
   "source": [
    "test_q1_by_id(6)"
   ]
  },
  {
   "cell_type": "code",
   "execution_count": 45,
   "metadata": {},
   "outputs": [],
   "source": [
    "def test_rank_of_q1_by_id(q1_index):\n",
    "    top_5_ids = [i for rank, i, text, bm_25 in search(questions.iloc[q1_index]['question1'], n=5)]\n",
    "    if q1_index in top_5_ids:\n",
    "        return 1/(top_5_ids.index(q1_index)+1)\n",
    "    else:\n",
    "        return 0.0"
   ]
  },
  {
   "cell_type": "code",
   "execution_count": null,
   "metadata": {},
   "outputs": [],
   "source": []
  },
  {
   "cell_type": "code",
   "execution_count": 46,
   "metadata": {},
   "outputs": [
    {
     "data": {
      "text/plain": [
       "0.3333333333333333"
      ]
     },
     "execution_count": 46,
     "metadata": {},
     "output_type": "execute_result"
    }
   ],
   "source": [
    "test_rank_of_q1_by_id(6)"
   ]
  },
  {
   "cell_type": "code",
   "execution_count": 47,
   "metadata": {},
   "outputs": [],
   "source": [
    "def test_over_multiple_questions(b, ranked=False, testsize=100): # test for different bs\n",
    "    testable = questions[(questions['is_duplicate'] == 1)&(questions.index < trained_size)]\n",
    "    if testsize < len(testable):\n",
    "        testable = testable[:testsize]\n",
    "        print('testing on', testsize, 'questions')\n",
    "    else:\n",
    "        print('testing on', len(testable), 'questions')\n",
    "    modified_tf_matrix = modify_tf_matrix(tf_matrix, b=b)\n",
    "    if ranked:\n",
    "        test_q1 = test_rank_of_q1_by_id\n",
    "    else:\n",
    "        test_q1 = test_q1_by_id\n",
    "    hit_count = 0.0\n",
    "    for index in testable.index:\n",
    "        hit_count += test_q1(index)\n",
    "    return hit_count/len(testable.index)"
   ]
  },
  {
   "cell_type": "code",
   "execution_count": null,
   "metadata": {},
   "outputs": [],
   "source": []
  },
  {
   "cell_type": "code",
   "execution_count": 48,
   "metadata": {},
   "outputs": [
    {
     "name": "stdout",
     "output_type": "stream",
     "text": [
      "BM25 b = 0.75\n",
      "testing on 100 questions\n",
      "boolean precision: 0.51\n",
      "testing on 100 questions\n",
      "rank precision: 0.36166666666666664\n",
      "\n",
      "BM15 b = 0\n",
      "testing on 100 questions\n",
      "boolean precision: 0.55\n",
      "testing on 100 questions\n",
      "rank precision: 0.5126666666666667\n",
      "\n",
      "BM11 b = 1\n",
      "testing on 100 questions\n",
      "boolean precision: 0.57\n",
      "testing on 100 questions\n",
      "rank precision: 0.4620000000000002\n",
      "\n"
     ]
    }
   ],
   "source": [
    "bs = {'BM25': 0.75, 'BM15': 0, 'BM11': 1}\n",
    "for key in bs:\n",
    "    b = bs[key]\n",
    "    print(key, 'b =', b)\n",
    "    print('boolean precision:', test_over_multiple_questions(b, testsize=100))\n",
    "    print('rank precision:', test_over_multiple_questions(b, ranked=True, testsize=100))\n",
    "    print('')"
   ]
  },
  {
   "cell_type": "code",
   "execution_count": null,
   "metadata": {},
   "outputs": [],
   "source": []
  },
  {
   "cell_type": "code",
   "execution_count": 49,
   "metadata": {},
   "outputs": [
    {
     "name": "stdout",
     "output_type": "stream",
     "text": [
      "BM25 b = 0.75\n",
      "testing on 500 questions\n",
      "boolean precision: 0.61\n",
      "testing on 500 questions\n",
      "rank precision: 0.5240333333333336\n",
      "\n",
      "BM15 b = 0\n",
      "testing on 500 questions\n",
      "boolean precision: 0.668\n",
      "testing on 500 questions\n",
      "rank precision: 0.5833666666666667\n",
      "\n",
      "BM11 b = 1\n",
      "testing on 500 questions\n",
      "boolean precision: 0.664\n",
      "testing on 500 questions\n",
      "rank precision: 0.5447000000000001\n",
      "\n"
     ]
    }
   ],
   "source": [
    "bs = {'BM25': 0.75, 'BM15': 0, 'BM11': 1}\n",
    "for key in bs:\n",
    "    b = bs[key]\n",
    "    print(key, 'b =', b)\n",
    "    print('boolean precision:', test_over_multiple_questions(b, testsize=500))\n",
    "    print('rank precision:', test_over_multiple_questions(b, ranked=True, testsize=500))\n",
    "    print('')"
   ]
  },
  {
   "cell_type": "code",
   "execution_count": null,
   "metadata": {},
   "outputs": [],
   "source": []
  },
  {
   "cell_type": "code",
   "execution_count": null,
   "metadata": {},
   "outputs": [],
   "source": []
  }
 ],
 "metadata": {
  "kernelspec": {
   "display_name": "Python 3",
   "language": "python",
   "name": "python3"
  },
  "language_info": {
   "codemirror_mode": {
    "name": "ipython",
    "version": 3
   },
   "file_extension": ".py",
   "mimetype": "text/x-python",
   "name": "python",
   "nbconvert_exporter": "python",
   "pygments_lexer": "ipython3",
   "version": "3.7.3"
  }
 },
 "nbformat": 4,
 "nbformat_minor": 2
}
